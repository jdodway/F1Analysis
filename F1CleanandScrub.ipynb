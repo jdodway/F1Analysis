{
 "cells": [
  {
   "cell_type": "code",
   "execution_count": null,
   "id": "10c2117e-4152-416d-8cc6-22c5f5ca32ec",
   "metadata": {},
   "outputs": [],
   "source": [
    "import pandas as pd"
   ]
  },
  {
   "cell_type": "code",
   "execution_count": null,
   "id": "8ba8c413-8742-4adb-9608-2890e1dba44c",
   "metadata": {},
   "outputs": [],
   "source": [
    "url1='https://raw.githubusercontent.com/jdodway/F1Anlysis/main/F1QueryResults/F1QualyAllFastest.csv'\n",
    "url2='https://raw.githubusercontent.com/jdodway/F1Anlysis/main/F1QueryResults/F1RaceFastestLap.csv'\n",
    "url3='https://raw.githubusercontent.com/jdodway/F1Anlysis/main/F1QueryResults/F1RaceTimeline2012.csv'\n",
    "url4='https://raw.githubusercontent.com/jdodway/F1Anlysis/main/F1QueryResults/F1Qual2012.csv'\n",
    "url5='https://raw.githubusercontent.com/jdodway/F1Anlysis/main/F1QueryResults/f1driversnation.csv'"
   ]
  },
  {
   "cell_type": "code",
   "execution_count": null,
   "id": "e27890d9-d159-4c17-9fbe-f634b587df91",
   "metadata": {},
   "outputs": [],
   "source": [
    "AllTimeFastQ = pd.read_csv(url1)\n",
    "AllTimeFastR = pd.read_csv(url2)\n",
    "Races2012 = pd.read_csv(url3)\n",
    "Qual2012 = pd.read_csv(url4)\n",
    "DriversNations = pd.read_csv(url5)"
   ]
  },
  {
   "cell_type": "code",
   "execution_count": null,
   "id": "6027d0e5-f625-4b01-a907-511f3092c65b",
   "metadata": {},
   "outputs": [],
   "source": [
    "import numpy as np"
   ]
  },
  {
   "cell_type": "code",
   "execution_count": null,
   "id": "bbce9e43-1f12-40e2-ae99-b3db6b3a0c40",
   "metadata": {},
   "outputs": [],
   "source": [
    "AllTimeFastQ[['q3','q2']] = AllTimeFastQ[['q3','q2']].replace(r'\\N',np.nan) \n",
    "AllTimeFastQ"
   ]
  },
  {
   "cell_type": "code",
   "execution_count": null,
   "id": "9536089e-9502-4b8e-826f-e6e17f1140d8",
   "metadata": {},
   "outputs": [],
   "source": [
    "Qual2012[['q3']] = Qual2012[['q3']].replace(r'\\N',np.nan) \n",
    "Qual2012"
   ]
  },
  {
   "cell_type": "code",
   "execution_count": null,
   "id": "70efb42b-017b-4146-a490-715bbc748908",
   "metadata": {},
   "outputs": [],
   "source": [
    "AllTimeFastR.head()"
   ]
  },
  {
   "cell_type": "code",
   "execution_count": null,
   "id": "e9733c84-ed41-4020-a14e-ced0223362ea",
   "metadata": {},
   "outputs": [],
   "source": [
    "from bs4 import BeautifulSoup as bs\n",
    "import requests\n",
    "import lxml"
   ]
  },
  {
   "cell_type": "code",
   "execution_count": null,
   "id": "1368286e-9a9c-4a2f-ae52-7aa6d9640b5b",
   "metadata": {},
   "outputs": [],
   "source": [
    "laptimes = pd.DataFrame(columns = ['Year','Track', 'FastestLap'])\n",
    "def scrapefastlap():\n",
    "    page = 1950\n",
    "    global laptimes\n",
    "    targettracks = ['Great Britain','Belgium', 'Italy','Monaco']\n",
    "    while page != 2004:\n",
    "        url = f'https://www.formula1.com/en/results.html/{page}/fastest-laps.html'\n",
    "        response = requests.get(url)\n",
    "        soup = bs(response.text,'lxml')\n",
    "        table = soup.find('table',class_='resultsarchive-table')\n",
    "        for row in table.tbody.find_all('tr'):\n",
    "            rows = row.find_all('td')\n",
    "            if any(x in row.find_all('td')[1].text for x in targettracks):\n",
    "                track = rows[1].text\n",
    "                fastlap = rows[4].text\n",
    "                \n",
    "                laptimes.loc[len(laptimes.index)] = [page,track, fastlap]\n",
    "        page = page + 1"
   ]
  },
  {
   "cell_type": "code",
   "execution_count": null,
   "id": "24d52efb-8971-40a2-a91b-6333838681fc",
   "metadata": {},
   "outputs": [],
   "source": [
    "scrapefastlap()"
   ]
  },
  {
   "cell_type": "code",
   "execution_count": null,
   "id": "479104f3-f4e6-44c0-8f83-20dbb35f81a5",
   "metadata": {},
   "outputs": [],
   "source": [
    "laptimes"
   ]
  },
  {
   "cell_type": "code",
   "execution_count": null,
   "id": "42c71144-360e-4d5a-813f-bed352679cbc",
   "metadata": {},
   "outputs": [],
   "source": [
    "AllTimeFastR.rename({'circuitRef':'Track','year':'Year'},axis='columns',inplace=True)\n",
    "AllTimeFastR"
   ]
  },
  {
   "cell_type": "code",
   "execution_count": null,
   "id": "26e68dd3-f034-45f3-a4ad-f459e1e24b3d",
   "metadata": {},
   "outputs": [],
   "source": [
    "RaceFastLaps = pd.concat([laptimes, AllTimeFastR.drop('circuitName',axis=1)])\n",
    "RaceFastLaps"
   ]
  },
  {
   "cell_type": "code",
   "execution_count": null,
   "id": "9531d596-9e74-4781-ba1e-107b977384af",
   "metadata": {},
   "outputs": [],
   "source": [
    "RaceFastLaps[['Track']] = RaceFastLaps[['Track']].replace(['spa', 'monza', 'silverstone', 'monaco'], ['Belgium', 'Italy', 'Great Britain','Monaco'])\n",
    "RaceFastLaps"
   ]
  },
  {
   "cell_type": "code",
   "execution_count": null,
   "id": "68c4d701-0f82-47c9-9867-10e3ced5fcf1",
   "metadata": {},
   "outputs": [],
   "source": [
    "RaceFastLaps['FastestLap'] = pd.to_timedelta(RaceFastLaps['FastestLap'].apply(lambda x: f'00:{x}')).dt.total_seconds().map('{:,.2f}'.format)\n",
    "RaceFastLaps['FastestLap'] = RaceFastLaps['FastestLap'].astype(float)\n",
    "RaceFastLaps"
   ]
  },
  {
   "cell_type": "code",
   "execution_count": null,
   "id": "e20fed8a-cf46-469e-b0b3-af5f093a2233",
   "metadata": {},
   "outputs": [],
   "source": [
    "pivRaceLaps = RaceFastLaps.pivot(index='Year', columns = 'Track', values = 'FastestLap')\n",
    "pivRaceLaps\n",
    "pivRaceLaps.to_csv('pivRaceLaps.csv')"
   ]
  }
 ],
 "metadata": {
  "kernelspec": {
   "display_name": "Python 3 (ipykernel)",
   "language": "python",
   "name": "python3"
  },
  "language_info": {
   "codemirror_mode": {
    "name": "ipython",
    "version": 3
   },
   "file_extension": ".py",
   "mimetype": "text/x-python",
   "name": "python",
   "nbconvert_exporter": "python",
   "pygments_lexer": "ipython3",
   "version": "3.9.7"
  }
 },
 "nbformat": 4,
 "nbformat_minor": 5
}
